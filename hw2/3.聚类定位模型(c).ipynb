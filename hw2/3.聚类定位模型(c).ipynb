{
 "cells": [
  {
   "cell_type": "markdown",
   "id": "10848144",
   "metadata": {
    "pycharm": {
     "name": "#%%\n"
    }
   },
   "source": [
    "## 定位模型"
   ]
  },
  {
   "cell_type": "markdown",
   "id": "93df9170",
   "metadata": {},
   "source": [
    "- **在第一次作业的b小题中，我们的定位模型是**：在完成每个分组的MR记录相对位置计算之后，针对每个分组构建一个对应的MR定位模型，不过该模型是以MR记录与主基站的相对位置作为标签。使用处理好的训练集用于训练模型，测试数据集用于测试统计，通过上述随机森林模型预测测试数据的相对位置。有趣的是，我第一次作业中人为-999的填充太随便了，然后分析后发现缺失的辅助基站数据很有可能是现实中根本不存在该基站，所有没有采取填充的方法。同时，为了解决缺失数据的问题，我在分组的基础上又根据缺失值进行分组，导致误差高的离谱。这里一个主要的原因就是，存在一些主基站分组中只有3条MR数据，而着3条MR数据中的缺失情况也可能不一样，这就导致可能训练时只有一条数据，然后进行预测，误差几乎就是随机值，所有最终的平均误差高达2000左右。在第2次作业中，我对第一次作业中进行了一些改动，采用-999的填充方案，并将所有属性作为特征，使用随机森林进行回归预测，所有组的平均误差和为6.2左右！！！"
   ]
  },
  {
   "cell_type": "markdown",
   "id": "af61b8e6",
   "metadata": {},
   "source": [
    "- **在此次作业的a和b两个小问中**：主要工作使使用每个主基站分组中的不同特征将主基站进行聚类。a小题中采用相对位置信息进行聚类，实验结果表明在采用原始数据聚类是最优K值为3，对数据进行归一化处理后的最优K值为4。在b题中，主要采用相对位置和信号强度结合的信息作为主基站特征来进行分类，实验结果表明无论数据是否进行归一化处理，最优K值都是3."
   ]
  },
  {
   "cell_type": "markdown",
   "id": "e009aed5",
   "metadata": {},
   "source": [
    "- **结合上面的分析，给出一个定位模型**：在第一次作业b小题的基础上，我们改变分组的方式，使分组训练的数据集分布的更加合理。具体为：通过a和b中的聚类结果对MR数据进行分簇，每一簇中含有不同的主基站中的MR数据。然后，对每一簇中的MR数据使用随机随林模型进行回归预测，作为对比，我们依然采用相对位置作为标签。这样，结合主基站的经纬度和预测的相对位置就可以实现定位。\n",
    "\n",
    "**备注**：为什么不结合栅格来进行定位呢？实际上，这个问题困扰了很长时间。严格来讲，无论怎么定位，最后定位的粒度应该都是一条MR的数据或者的一个尺寸不大的栅格。如果采用组中分栅格来进行定位，整体流程应该是：给定一条MR的数据，首先我们需要预测属于哪一个簇（然后簇的特征我们并没有分析的指标），在簇中，我们需要预测属于哪一个主基站，进一步，预测属于哪一个栅格。很显然，在这个层次聚类的过程中，人为提取的特征往往会导致大量信息丢失。在某种意义上，人为提取的特征(MR、栅格、主基站、簇)并没有较强的实际物理意义，即内部可能并没有因果关系等。虽然刚才的过程是典型的层次聚类，但过程已经丢失大部分可用的信息，并不实际。"
   ]
  },
  {
   "cell_type": "code",
   "execution_count": 8,
   "id": "b9d738b7",
   "metadata": {},
   "outputs": [],
   "source": [
    "import pandas as pd\n",
    "import matplotlib.pyplot as plt\n",
    "import numpy as np\n",
    "from sklearn.cluster import KMeans\n",
    "from matplotlib.pyplot import MultipleLocator # 设置刻度间隔"
   ]
  },
  {
   "cell_type": "markdown",
   "id": "fbd3758e",
   "metadata": {},
   "source": [
    "## 使用b题中聚类结果进行分组回归预测定位"
   ]
  },
  {
   "cell_type": "code",
   "execution_count": 4,
   "id": "d03bc160",
   "metadata": {
    "pycharm": {
     "name": "#%%\n"
    }
   },
   "outputs": [],
   "source": [
    "# 加载数据集\n",
    "df = pd.read_csv('../data/group_data.csv')\n",
    "\n",
    "# 按照主机站进行分组\n",
    "data = df.groupby(['RNCID_1','CellID_1'])\n",
    "data = list(data)  # 共43个组"
   ]
  },
  {
   "cell_type": "code",
   "execution_count": 6,
   "id": "2fbd161c",
   "metadata": {},
   "outputs": [],
   "source": [
    "# 划分栅格，提取特征\n",
    "import math\n",
    "Group_Feature = []   # 每个主基站的栅格特征\n",
    "\n",
    "#计算栅格的相对经纬度增加量大小Lon和Lat\n",
    "deltaLon = 0.001\n",
    "deltaLat = 0.001\n",
    "\n",
    "for i in range(43):\n",
    "    one_group_feature = []  # 一个主基站的栅格特征集\n",
    "    g = data[i][1]   # 一个主基站的数据\n",
    "    # 找到划分栅格的尺度\n",
    "    min_lo = min(g.loc[:, 'lo'])\n",
    "    max_lo = max(g.loc[:, 'lo'])\n",
    "    min_la = min(g.loc[:, 'la'])\n",
    "    max_la = max(g.loc[:, 'la'])\n",
    "    #lon方向是lonsnum个栅格\n",
    "    lonsnum = int((max_lo-min_lo)/deltaLon)+1\n",
    "    #lat方向是latsnum个栅格\n",
    "    latsnum = int((max_la-min_la)/deltaLat)+1\n",
    "    # 对一个主基站划分栅格\n",
    "    group_grid = []\n",
    "    for i in range(lonsnum):\n",
    "        for j in range(latsnum):\n",
    "            # 每一个栅格的范围\n",
    "            lo_start =  i * deltaLon + (min_lo - deltaLon / 2)\n",
    "            lo_end = (i+1) * deltaLon + (min_lo - deltaLon / 2)\n",
    "            la_start = j * deltaLat + (min_la - deltaLat / 2)\n",
    "            la_end = (j+1) * deltaLat + (min_la - deltaLat / 2)\n",
    "            # 计算栅格相对于主基站的中心位置  距离\n",
    "            center_lo = (lo_start + lo_end) / 2\n",
    "            center_la = (la_start + la_end) / 2\n",
    "            center_dist = math.sqrt(center_lo**2 + center_la**2) # 栅格到达主基站的距离\n",
    "            grid_data = []   # 栅格数据\n",
    "            for index, row in g.iterrows():\n",
    "                if lo_start <= row['lo'] < lo_end and la_start <= row['la'] < la_end:\n",
    "                    grid_data.append(row)\n",
    "            group_grid.append([i,j,center_dist,grid_data])  # ij栅格位置，栅格中心距离，mr数据\n",
    "            \n",
    "    # 提取主基站的每一个栅格的特征\n",
    "    for k in range(1, len(group_grid)):\n",
    "        # 统计每一个栅格中的信号强度数据\n",
    "        Grid_Signal_Level = []\n",
    "        for m in range(len(group_grid[k][3])):\n",
    "            mr = group_grid[k][3][m]   # 该数据中，LinkNum表示邻近基站的数量，即比较信号强度时最高的顺序号\n",
    "            Grid_Signal_Level.append(mr['LinkNum'])\n",
    "        # 每一个栅格的直方图特征 均值和方差\n",
    "        arr_mean = np.mean(Grid_Signal_Level)  # 均值可以表征该栅格的信号强度\n",
    "#         arr_var = np.var(Grid_Signal_Level)    # 方差表征信号强度的分布情况\n",
    "        if not math.isnan(arr_mean):  # 去除nan\n",
    "            one_group_feature.append([group_grid[k][2], arr_mean])    # 主机站栅格信息列表\n",
    "    Group_Feature.append({'lonsnum': lonsnum, 'latsnum': latsnum, 'grid': one_group_feature})  # 一个主基站的特征信息"
   ]
  },
  {
   "cell_type": "code",
   "execution_count": 10,
   "id": "21b5dffe",
   "metadata": {},
   "outputs": [],
   "source": [
    "# 每一组中的栅格特征数据进行聚类获取聚合后的特征数据\n",
    "group_clusters = []\n",
    "for i in range(len(Group_Feature)):\n",
    "    X = np.array(Group_Feature[i]['grid'])\n",
    "    if len(X) is not 0:  # 主基站的栅格中不存在数据\n",
    "        mid = KMeans(n_clusters=1, init='k-means++', n_init=10, max_iter=200)   # 计算中心点,聚类为一类\n",
    "        mid.fit(X)\n",
    "        group_clusters.append([mid.cluster_centers_[0][0], mid.cluster_centers_[0][1]])   # 簇的中心点\n",
    "    else:\n",
    "        group_clusters.append([0,0])   "
   ]
  },
  {
   "cell_type": "code",
   "execution_count": 11,
   "id": "a66d1d7a",
   "metadata": {},
   "outputs": [
    {
     "name": "stdout",
     "output_type": "stream",
     "text": [
      "聚类标签： [0 0 1 0 0 1 1 1 1 0 0 0 0 1 2 2 1 0 2 2 1 0 0 0 0 0 0 0 1 0 0 0 1 1 0 0 2\n",
      " 1 0 0 1 0 0]\n",
      "聚类中心： [[ 7.03408147e-03  6.20208697e+00]\n",
      " [-8.67361738e-19  8.88178420e-16]\n",
      " [ 4.75019109e-03  4.71619048e+00]]\n",
      "聚类准则： 4.435327544373936\n"
     ]
    }
   ],
   "source": [
    "# 在b中，最优的K值为3，所以采用3作为分组训练的组数\n",
    "# K=3的聚类效果   训练\n",
    "X = np.array(group_clusters)\n",
    "model = KMeans(n_clusters=3, init='k-means++', n_init=10, max_iter=200)\n",
    "model.fit(X)\n",
    "\n",
    "labels = model.labels_  # 获取聚类标签\n",
    "cluster_centers = model.cluster_centers_  # 获取聚类中心\n",
    "inertia = model.inertia_  # 获取聚类准则的总和\n",
    "print(\"聚类标签：\", labels)\n",
    "print(\"聚类中心：\", cluster_centers)\n",
    "print(\"聚类准则：\", inertia)"
   ]
  },
  {
   "cell_type": "code",
   "execution_count": 12,
   "id": "f68358cd",
   "metadata": {},
   "outputs": [
    {
     "data": {
      "image/png": "[encoded data removed]",
      "text/plain": [
       "<Figure size 432x288 with 1 Axes>"
      ]
     },
     "metadata": {
      "needs_background": "light"
     },
     "output_type": "display_data"
    }
   ],
   "source": [
    "# 绘制聚类结果\n",
    "from itertools import cycle\n",
    "\n",
    "labels_unique = np.unique(labels)\n",
    "n_clusters_ = len(labels_unique)\n",
    "\n",
    "plt.figure(1)\n",
    "plt.clf()\n",
    "\n",
    "colors = cycle(\"bgrcmykbgrcmykbgrcmykbgrcmyk\")\n",
    "for k, col in zip(range(n_clusters_), colors):\n",
    "    my_members = labels == k\n",
    "    cluster_center = cluster_centers[k]\n",
    "    plt.plot(X[my_members, 0], X[my_members, 1], col + \".\")\n",
    "    plt.plot(\n",
    "        cluster_center[0],\n",
    "        cluster_center[1],\n",
    "        \"o\",\n",
    "        markerfacecolor=col,\n",
    "        markeredgecolor=\"k\",\n",
    "        markersize=14,\n",
    "    )\n",
    "plt.title(\"Estimated number of clusters: %d\" % n_clusters_)\n",
    "plt.show()"
   ]
  },
  {
   "cell_type": "markdown",
   "id": "f9e27262",
   "metadata": {},
   "source": [
    "**注意**：绿色的簇代表没有从栅格中提取到栅格的特征信息，我将这些组单独放在一个簇中，该簇中一共有12组主基站的数据。"
   ]
  },
  {
   "cell_type": "code",
   "execution_count": 32,
   "id": "8c6e745c",
   "metadata": {
    "pycharm": {
     "name": "#%%\n"
    }
   },
   "outputs": [
    {
     "name": "stdout",
     "output_type": "stream",
     "text": [
      "43\n"
     ]
    },
    {
     "data": {
      "text/plain": [
       "array([0, 0, 1, 0, 0, 1, 1, 1, 1, 0, 0, 0, 0, 1, 2, 2, 1, 0, 2, 2, 1, 0,\n",
       "       0, 0, 0, 0, 0, 0, 1, 0, 0, 0, 1, 1, 0, 0, 2, 1, 0, 0, 1, 0, 0])"
      ]
     },
     "execution_count": 32,
     "metadata": {},
     "output_type": "execute_result"
    }
   ],
   "source": [
    "# 在labels中，我们可以获取到每一主基站中的分裂标签\n",
    "print(len(labels))\n",
    "labels"
   ]
  },
  {
   "cell_type": "markdown",
   "id": "707a5942",
   "metadata": {},
   "source": [
    "#### 组装数据集"
   ]
  },
  {
   "cell_type": "code",
   "execution_count": 43,
   "id": "329b9255",
   "metadata": {},
   "outputs": [],
   "source": [
    "# 经过聚类后的分组数据\n",
    "X0 = pd.DataFrame(data[0][1])\n",
    "X1 = pd.DataFrame(data[2][1])\n",
    "X2 = pd.DataFrame(data[14][1])\n",
    "for i in range(1,len(data)):\n",
    "    if i != 0 and labels[i] == 0:\n",
    "        X0.append(data[i][1])\n",
    "    if i != 2 and labels[i] == 0:\n",
    "        X1.append(data[i][1])\n",
    "    if i != 14 and labels[i] == 0:\n",
    "        X2.append(data[i][1])"
   ]
  },
  {
   "cell_type": "code",
   "execution_count": 47,
   "id": "4e961266",
   "metadata": {},
   "outputs": [
    {
     "name": "stdout",
     "output_type": "stream",
     "text": [
      "X0: 819\n",
      "X1: 15\n",
      "X2: 67\n"
     ]
    }
   ],
   "source": [
    "print('X0:', X0.shape[0])\n",
    "print('X1:', X1.shape[0])\n",
    "print('X2:', X2.shape[0])"
   ]
  },
  {
   "cell_type": "code",
   "execution_count": 19,
   "id": "aba43514",
   "metadata": {
    "pycharm": {
     "name": "#%%\n"
    }
   },
   "outputs": [],
   "source": [
    "def rad(d):\n",
    "    return d * math.pi / 180.0\n",
    "\n",
    "# 地理坐标系：为球面坐标。 参考平面地是椭球面，坐标单位：经纬度；\n",
    "# 投影坐标系：为平面坐标。参考平面地是水平面，坐标单位：米、千米等；\n",
    "# 地理坐标转换到投影坐标的过程可理解为投影。（投影：将不规则的地球曲面转换为平面）\n",
    "\n",
    "# 目前国内主要有三种地理坐标系\n",
    "# 1、WGS84坐标系：即地球坐标系（World Geodetic System），国际上通用的坐标系。\n",
    "# 设备包含的GPS芯片或者北斗芯片获取的经纬度一般都是为WGS84地理坐标系，目前谷歌地图采用的是WGS84坐标系（中国范围除外）。\n",
    "# 2、GCJ02坐标系：即火星坐标系，国测局坐标系。是由中国国家测绘局制定。由WGS84坐标系经加密后的坐标系。谷歌中国和搜搜中国采用。\n",
    "# 3、BD09坐标系：百度坐标系，GCJ02坐标系经加密后的坐标系。\n",
    "\n",
    "# 投影：墨卡托投影、高斯-克吕格 (Gauss-Krüger) 投影\n",
    "# 感兴趣的同学可以在https://desktop.arcgis.com/zh-cn/arcmap/10.3/guide-books/map-projections/list-of-supported-map-projections.htm深入了解\n",
    "\n",
    "# gps两点间距离（单位为米）\n",
    "def distance(true_pt, pred_pt):\n",
    "    lat1 = float(true_pt[1])\n",
    "    lng1 = float(true_pt[0])\n",
    "    lat2 = float(pred_pt[1])\n",
    "    lng2 = float(pred_pt[0])\n",
    "    radLat1 = rad(lat1)\n",
    "    radLat2 = rad(lat2)\n",
    "    a = radLat1 - radLat2\n",
    "    b = rad(lng1) - rad(lng2)\n",
    "    s = 2 * math.asin(math.sqrt(math.pow(math.sin(a/2),2) +\n",
    "    math.cos(radLat1)*math.cos(radLat2)*math.pow(math.sin(b/2),2)))\n",
    "    s = s * 6378.137\n",
    "    s = round(s * 10000) / 10\n",
    "    return s"
   ]
  },
  {
   "cell_type": "code",
   "execution_count": 53,
   "id": "1ef1e932",
   "metadata": {
    "pycharm": {
     "name": "#%%\n"
    }
   },
   "outputs": [
    {
     "name": "stdout",
     "output_type": "stream",
     "text": [
      "0组误差： 0.0 2.4030487804878047 7.9\n",
      "1组误差： 2.1 2.033333333333333 4.0\n",
      "2组误差： 3.3 5.107142857142857 10.6\n",
      "所有组的平均误差： 2.606077348066299\n"
     ]
    }
   ],
   "source": [
    "from sklearn.model_selection import train_test_split  # 数据集划分\n",
    "from sklearn.ensemble import RandomForestRegressor\n",
    "\n",
    "# 按照主机站进行分组训练\n",
    "data = [X0,X1,X2]\n",
    "med = []  # 中位数\n",
    "mea = [] # 均方误差\n",
    "nin = [] # 分位数\n",
    "loss = [] # 总误差\n",
    "\n",
    "# 总共43组\n",
    "for i in range(len(data)):\n",
    "    group = data[i] # 一组\n",
    "    pre = []\n",
    "    # 以相对坐标作为预测值\n",
    "    X, Xe, Y, Ye = train_test_split(\n",
    "        group, \n",
    "        group[['Longitude', 'Latitude', 'lo', 'la']], \n",
    "        test_size=0.2, \n",
    "        random_state=200)\n",
    "    reg = RandomForestRegressor()\n",
    "    reg.fit(X, Y[['lo', 'la']].values)\n",
    "    pred = reg.predict(Xe)\n",
    "    # 换回真实坐标计算误差\n",
    "    for bias in pred:\n",
    "        pre.append([bias[0] + group.iloc[0,-4], bias[1] + group.iloc[0,-3]])\n",
    "    err = [distance(p,t) for p, t in zip(pre,Ye[['Longitude','Latitude']].values)]\n",
    "    err = sorted(err)\n",
    "    # 考虑每组样本不同\n",
    "    loss.extend(err)\n",
    "    med.append(np.median(err))\n",
    "    mea.append(np.mean(err))\n",
    "    print(str(i) +\"组误差：\", np.median(err), np.mean(err), err[int(len(err)*0.9)])\n",
    "\n",
    "# 所有组的误差\n",
    "print(\"所有组的平均误差：\", np.mean(loss))"
   ]
  },
  {
   "cell_type": "code",
   "execution_count": 57,
   "id": "e29a5a44",
   "metadata": {
    "pycharm": {
     "name": "#%%\n"
    }
   },
   "outputs": [
    {
     "name": "stdout",
     "output_type": "stream",
     "text": [
      "所有组均分误差： 2.606077348066299\n"
     ]
    },
    {
     "data": {
      "image/png": "[encoded data removed]",
      "text/plain": [
       "<Figure size 432x288 with 1 Axes>"
      ]
     },
     "metadata": {
      "needs_background": "light"
     },
     "output_type": "display_data"
    }
   ],
   "source": [
    "print(\"所有组均分误差：\", np.mean(loss))\n",
    "\n",
    "import matplotlib.pyplot as plt\n",
    "plt.plot([0,1,2], mea, label='mean error')\n",
    "plt.plot([0,1,2], med, label='median error')\n",
    "plt.title('median and mean in 3 groups')\n",
    "plt.legend()\n",
    "plt.show()"
   ]
  },
  {
   "cell_type": "markdown",
   "id": "a6638cfe",
   "metadata": {
    "pycharm": {
     "name": "#%% md\n"
    }
   },
   "source": [
    "## 使用a中相对位置聚类结果进行分组预测定位"
   ]
  },
  {
   "cell_type": "markdown",
   "id": "cf0d55ee",
   "metadata": {},
   "source": [
    "在a中，我们聚类结果有两个最优的K值，原始数据上是3，但由于聚类本身对距离非常敏感，所以我将相对位置进行归一化处理后的最优K值为4.这里采用K值为4进行分组训练预测定位。"
   ]
  },
  {
   "cell_type": "code",
   "execution_count": 4,
   "id": "ddd8f342",
   "metadata": {},
   "outputs": [],
   "source": [
    "import pandas as pd\n",
    "import matplotlib.pyplot as plt\n",
    "import numpy as np\n",
    "from sklearn.cluster import KMeans\n",
    "from matplotlib.pyplot import MultipleLocator # 设置刻度间隔"
   ]
  },
  {
   "cell_type": "code",
   "execution_count": 5,
   "id": "00660ac6",
   "metadata": {},
   "outputs": [],
   "source": [
    "# 读取数据\n",
    "df = pd.read_csv('../data/group_data.csv')\n",
    "\n",
    "# 按照主机站进行分组\n",
    "data = df.groupby(['RNCID_1','CellID_1'])\n",
    "data = list(data)  # 共43个组"
   ]
  },
  {
   "cell_type": "code",
   "execution_count": 6,
   "id": "f7f3f092",
   "metadata": {},
   "outputs": [],
   "source": [
    "# 提取特征\n",
    "# 选取所有组的特征信息\n",
    "group_feature = []\n",
    "for i in range(len(data)):\n",
    "    dist = []\n",
    "    for index, row in data[i][1].iterrows():\n",
    "        d = np.sqrt(row['lo']**2 + row['la']**2)\n",
    "        dist.append(d)\n",
    "    group_feature.append([np.mean(dist), np.var(dist)])\n",
    "X = np.array(group_feature)"
   ]
  },
  {
   "cell_type": "code",
   "execution_count": 8,
   "id": "4843cb40",
   "metadata": {},
   "outputs": [],
   "source": [
    "from sklearn.preprocessing import StandardScaler,MinMaxScaler\n",
    "# 归一化\n",
    "minmax = MinMaxScaler()\n",
    "scaler_data = minmax.fit_transform(X)"
   ]
  },
  {
   "cell_type": "code",
   "execution_count": 10,
   "id": "b7fff8e7",
   "metadata": {},
   "outputs": [
    {
     "name": "stdout",
     "output_type": "stream",
     "text": [
      "0.6644810230818553\n"
     ]
    },
    {
     "data": {
      "image/png": "[encoded data removed]",
      "text/plain": [
       "<Figure size 432x288 with 1 Axes>"
      ]
     },
     "metadata": {
      "needs_background": "light"
     },
     "output_type": "display_data"
    }
   ],
   "source": [
    "# 归一化处理有最优k值是4，绘制聚类结果\n",
    "from itertools import cycle\n",
    "\n",
    "model = KMeans(n_clusters=4, init='k-means++', n_init=10, max_iter=200)\n",
    "model.fit(scaler_data)\n",
    "\n",
    "labels = model.labels_  # 获取聚类标签\n",
    "cluster_centers = model.cluster_centers_  # 获取聚类中心\n",
    "inertia = model.inertia_  # 获取聚类准则的总和\n",
    "\n",
    "# print(labels)\n",
    "# print(cluster_centers)\n",
    "print(inertia)\n",
    "\n",
    "labels_unique = np.unique(labels)\n",
    "n_clusters_ = len(labels_unique)\n",
    "\n",
    "plt.figure(1)\n",
    "plt.clf()\n",
    "\n",
    "colors = cycle(\"bgrcmykbgrcmykbgrcmykbgrcmykbgrcmykaaafawadad\")\n",
    "\n",
    "for k, col in zip(range(n_clusters_), colors):\n",
    "    my_members = labels == k\n",
    "    cluster_center = cluster_centers[k]\n",
    "    plt.plot(scaler_data[my_members, 0], scaler_data[my_members, 1], col + '.')\n",
    "    plt.plot(\n",
    "        cluster_center[0],\n",
    "        cluster_center[1],\n",
    "        \"o\",\n",
    "        markerfacecolor=col,\n",
    "        markersize=14,\n",
    "    )\n",
    "plt.title(\"Estimated number of clusters: %d\" % n_clusters_)\n",
    "plt.show()"
   ]
  },
  {
   "cell_type": "code",
   "execution_count": 12,
   "id": "ec968eba",
   "metadata": {},
   "outputs": [
    {
     "name": "stdout",
     "output_type": "stream",
     "text": [
      "labels length 43\n",
      "[0 3 2 2 3 1 1 2 2 0 1 3 3 1 3 1 2 1 1 1 1 0 1 0 0 0 0 3 1 0 3 0 1 1 2 1 0\n",
      " 1 1 1 1 1 1]\n"
     ]
    }
   ],
   "source": [
    "# 查看分类标签\n",
    "print('labels length', len(labels))\n",
    "print(labels)"
   ]
  },
  {
   "cell_type": "code",
   "execution_count": 16,
   "id": "a87d892e",
   "metadata": {},
   "outputs": [
    {
     "data": {
      "text/plain": [
       "1"
      ]
     },
     "execution_count": 16,
     "metadata": {},
     "output_type": "execute_result"
    }
   ],
   "source": [
    "labels[5]"
   ]
  },
  {
   "cell_type": "code",
   "execution_count": 17,
   "id": "098f67ec",
   "metadata": {},
   "outputs": [],
   "source": [
    "# 组装数据集\n",
    "# 经过聚类后的分组数据\n",
    "X0 = pd.DataFrame(data[0][1])\n",
    "X1 = pd.DataFrame(data[5][1])\n",
    "X2 = pd.DataFrame(data[2][1])\n",
    "X3 = pd.DataFrame(data[1][1])\n",
    "for i in range(1,len(data)):\n",
    "    if i != 0 and labels[i] == 0:\n",
    "        X0.append(data[i][1])\n",
    "    if i != 5 and labels[i] == 0:\n",
    "        X1.append(data[i][1])\n",
    "    if i != 2 and labels[i] == 0:\n",
    "        X2.append(data[i][1])\n",
    "    if i != 1 and labels[i] == 0:\n",
    "        X3.append(data[i][1])"
   ]
  },
  {
   "cell_type": "code",
   "execution_count": 18,
   "id": "1a9999cc",
   "metadata": {},
   "outputs": [
    {
     "name": "stdout",
     "output_type": "stream",
     "text": [
      "X0: 819\n",
      "X1: 38\n",
      "X2: 15\n",
      "X3: 103\n"
     ]
    }
   ],
   "source": [
    "print('X0:', X0.shape[0])\n",
    "print('X1:', X1.shape[0])\n",
    "print('X2:', X2.shape[0])\n",
    "print('X3:', X3.shape[0])\n",
    "# 分的相对而言更加均匀"
   ]
  },
  {
   "cell_type": "code",
   "execution_count": 22,
   "id": "9993269c",
   "metadata": {},
   "outputs": [
    {
     "name": "stdout",
     "output_type": "stream",
     "text": [
      "0组误差： 0.0 2.3689024390243905 7.2\n",
      "1组误差： 5.35 5.199999999999999 9.2\n",
      "2组误差： 2.6 3.033333333333333 6.5\n",
      "3组误差： 12.6 18.285714285714285 25.6\n",
      "所有组的平均误差： 4.2\n"
     ]
    }
   ],
   "source": [
    "from sklearn.model_selection import train_test_split  # 数据集划分\n",
    "from sklearn.ensemble import RandomForestRegressor\n",
    "import math\n",
    "\n",
    "# 按照主机站进行分组训练\n",
    "data = [X0,X1,X2,X3]\n",
    "med = []  # 中位数\n",
    "mea = [] # 均方误差\n",
    "nin = [] # 分位数\n",
    "loss = [] # 总误差\n",
    "\n",
    "# 总共43组\n",
    "for i in range(len(data)):\n",
    "    group = data[i] # 一组\n",
    "    pre = []\n",
    "    # 以相对坐标作为预测值\n",
    "    X, Xe, Y, Ye = train_test_split(\n",
    "        group, \n",
    "        group[['Longitude', 'Latitude', 'lo', 'la']], \n",
    "        test_size=0.2, \n",
    "        random_state=200)\n",
    "    reg = RandomForestRegressor()\n",
    "    reg.fit(X, Y[['lo', 'la']].values)\n",
    "    pred = reg.predict(Xe)\n",
    "    # 换回真实坐标计算误差\n",
    "    for bias in pred:\n",
    "        pre.append([bias[0] + group.iloc[0,-4], bias[1] + group.iloc[0,-3]])\n",
    "    err = [distance(p,t) for p, t in zip(pre,Ye[['Longitude','Latitude']].values)]\n",
    "    err = sorted(err)\n",
    "    # 考虑每组样本不同\n",
    "    loss.extend(err)\n",
    "    med.append(np.median(err))\n",
    "    mea.append(np.mean(err))\n",
    "    print(str(i) +\"组误差：\", np.median(err), np.mean(err), err[int(len(err)*0.9)])\n",
    "\n",
    "# 所有组的误差\n",
    "print(\"所有组的平均误差：\", np.mean(loss))"
   ]
  },
  {
   "cell_type": "code",
   "execution_count": 24,
   "id": "49404c93",
   "metadata": {},
   "outputs": [
    {
     "name": "stdout",
     "output_type": "stream",
     "text": [
      "所有组均分误差： 4.2\n"
     ]
    },
    {
     "data": {
      "image/png": "[encoded data removed]",
      "text/plain": [
       "<Figure size 432x288 with 1 Axes>"
      ]
     },
     "metadata": {
      "needs_background": "light"
     },
     "output_type": "display_data"
    }
   ],
   "source": [
    "print(\"所有组平均误差：\", np.mean(loss))\n",
    "\n",
    "import matplotlib.pyplot as plt\n",
    "plt.plot([0,1,2,3], mea, label='mean error')\n",
    "plt.plot([0,1,2,3], med, label='median error')\n",
    "plt.title('median and mean in 4 groups')\n",
    "plt.legend()\n",
    "plt.show()"
   ]
  }
 ],
 "metadata": {
  "kernelspec": {
   "display_name": "Python 3",
   "language": "python",
   "name": "python3"
  },
  "language_info": {
   "codemirror_mode": {
    "name": "ipython",
    "version": 3
   },
   "file_extension": ".py",
   "mimetype": "text/x-python",
   "name": "python",
   "nbconvert_exporter": "python",
   "pygments_lexer": "ipython3",
   "version": "3.6.13"
  }
 },
 "nbformat": 4,
 "nbformat_minor": 5
}
