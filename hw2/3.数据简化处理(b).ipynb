{
 "cells": [
  {
   "cell_type": "code",
   "execution_count": 2,
   "metadata": {
    "collapsed": true,
    "pycharm": {
     "name": "#%%\n"
    }
   },
   "outputs": [],
   "source": [
    "import pandas as pd\n",
    "import numpy as np"
   ]
  },
  {
   "cell_type": "code",
   "execution_count": 4,
   "outputs": [
    {
     "data": {
      "text/plain": "         MRTime   Longitude   Latitude  RNCID_1  CellID_1  SignalLevel_1  \\\n0  1.510000e+12  121.213563  31.291798     6188     26051              4   \n\n   RSSI_1  RNCID_2  CellID_2  SignalLevel_2  ...  RNCID_7  CellID_7  \\\n0     -59     6188     27394              3  ...   6182.0   44754.0   \n\n   SignalLevel_7  RSSI_7  LinkNum  id_c5ombine  Longitude_eng  Latitude_eng  \\\n0            3.0   -95.0        7        32239     121.211928     31.288649   \n\n         lo        la  \n0  0.001635  0.003149  \n\n[1 rows x 37 columns]",
      "text/html": "<div>\n<style scoped>\n    .dataframe tbody tr th:only-of-type {\n        vertical-align: middle;\n    }\n\n    .dataframe tbody tr th {\n        vertical-align: top;\n    }\n\n    .dataframe thead th {\n        text-align: right;\n    }\n</style>\n<table border=\"1\" class=\"dataframe\">\n  <thead>\n    <tr style=\"text-align: right;\">\n      <th></th>\n      <th>MRTime</th>\n      <th>Longitude</th>\n      <th>Latitude</th>\n      <th>RNCID_1</th>\n      <th>CellID_1</th>\n      <th>SignalLevel_1</th>\n      <th>RSSI_1</th>\n      <th>RNCID_2</th>\n      <th>CellID_2</th>\n      <th>SignalLevel_2</th>\n      <th>...</th>\n      <th>RNCID_7</th>\n      <th>CellID_7</th>\n      <th>SignalLevel_7</th>\n      <th>RSSI_7</th>\n      <th>LinkNum</th>\n      <th>id_c5ombine</th>\n      <th>Longitude_eng</th>\n      <th>Latitude_eng</th>\n      <th>lo</th>\n      <th>la</th>\n    </tr>\n  </thead>\n  <tbody>\n    <tr>\n      <th>0</th>\n      <td>1.510000e+12</td>\n      <td>121.213563</td>\n      <td>31.291798</td>\n      <td>6188</td>\n      <td>26051</td>\n      <td>4</td>\n      <td>-59</td>\n      <td>6188</td>\n      <td>27394</td>\n      <td>3</td>\n      <td>...</td>\n      <td>6182.0</td>\n      <td>44754.0</td>\n      <td>3.0</td>\n      <td>-95.0</td>\n      <td>7</td>\n      <td>32239</td>\n      <td>121.211928</td>\n      <td>31.288649</td>\n      <td>0.001635</td>\n      <td>0.003149</td>\n    </tr>\n  </tbody>\n</table>\n<p>1 rows × 37 columns</p>\n</div>"
     },
     "execution_count": 4,
     "metadata": {},
     "output_type": "execute_result"
    }
   ],
   "source": [
    "df = pd.read_csv(\"../data/group_data.csv\")\n",
    "\n",
    "df.head(1)"
   ],
   "metadata": {
    "collapsed": false,
    "pycharm": {
     "name": "#%%\n"
    }
   }
  },
  {
   "cell_type": "code",
   "execution_count": 6,
   "outputs": [
    {
     "data": {
      "text/plain": "pandas.core.frame.DataFrame"
     },
     "execution_count": 6,
     "metadata": {},
     "output_type": "execute_result"
    }
   ],
   "source": [
    "# 将数据分组，然后将每一组中的MR数据进行简化处理，基站标识号依次变为1，2，3，... ，7\n",
    "# 按照主机站进行分组\n",
    "data = df.groupby(['RNCID_1','CellID_1'])\n",
    "data = list(data)  # 共43个组\n",
    "type(data[0][1])  # 第1组的数据"
   ],
   "metadata": {
    "collapsed": false,
    "pycharm": {
     "name": "#%%\n"
    }
   }
  }
 ],
 "metadata": {
  "kernelspec": {
   "display_name": "Python 3",
   "language": "python",
   "name": "python3"
  },
  "language_info": {
   "codemirror_mode": {
    "name": "ipython",
    "version": 2
   },
   "file_extension": ".py",
   "mimetype": "text/x-python",
   "name": "python",
   "nbconvert_exporter": "python",
   "pygments_lexer": "ipython2",
   "version": "2.7.6"
  }
 },
 "nbformat": 4,
 "nbformat_minor": 0
}