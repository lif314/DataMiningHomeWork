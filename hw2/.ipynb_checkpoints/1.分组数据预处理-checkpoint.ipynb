{
 "cells": [
  {
   "cell_type": "code",
   "execution_count": 1,
   "id": "028dc855",
   "metadata": {},
   "outputs": [],
   "source": [
    "import numpy as np\n",
    "import pandas as pd"
   ]
  },
  {
   "cell_type": "code",
   "execution_count": 4,
   "id": "952c6a2e",
   "metadata": {},
   "outputs": [],
   "source": [
    "# 读入数据\n",
    "mr = pd.read_csv('../data/2G_data.csv')\n",
    "# print(data.head(1))\n",
    "\n",
    "# 匹配工参\n",
    "mr_eng = pd.read_csv('../data/2G_gongcan.csv')\n",
    "mr_eng.rename(columns={'RNCID': 'RNCID_1', 'CellID':'CellID_1'}, inplace=True)\n",
    "mr_eng.drop(columns=['Type'], inplace=True)\n",
    "#print(mr_eng.head(1))\n",
    "\n",
    "# 合并数据\n",
    "mr = mr.merge(mr_eng, on=['RNCID_1', 'CellID_1'], how='left', suffixes=('', '_eng'))"
   ]
  },
  {
   "cell_type": "code",
   "execution_count": 5,
   "id": "925abeb3",
   "metadata": {},
   "outputs": [
    {
     "name": "stdout",
     "output_type": "stream",
     "text": [
      "121.2103275\n",
      "31.290146999999997\n"
     ]
    }
   ],
   "source": [
    "lo_avg = []\n",
    "la_avg = []\n",
    "for index, row in mr_eng.iterrows():\n",
    "    if row['RNCID_1'] == 6182:\n",
    "        lo_avg.append(row['Longitude'])\n",
    "        la_avg.append(row['Latitude'])\n",
    "# 缺失值的均值\n",
    "print(np.mean(lo_avg))\n",
    "print(np.mean(la_avg))"
   ]
  },
  {
   "cell_type": "code",
   "execution_count": 6,
   "id": "e2a68edf",
   "metadata": {},
   "outputs": [],
   "source": [
    "# 将主基站数据确实的进行填充\n",
    "mr['Longitude_eng'].fillna(np.mean(lo_avg), inplace=True)\n",
    "mr['Latitude_eng'].fillna(np.mean(la_avg), inplace=True)"
   ]
  },
  {
   "cell_type": "code",
   "execution_count": 7,
   "id": "b1785a9a",
   "metadata": {},
   "outputs": [],
   "source": [
    "# 对于其它缺失值，采用-999填充\n",
    "mr = mr.fillna(-999)\n",
    "mr = mr.reset_index(drop=True)"
   ]
  },
  {
   "cell_type": "code",
   "execution_count": 11,
   "id": "d9ae1103",
   "metadata": {},
   "outputs": [],
   "source": [
    "# 计算相对坐标\n",
    "# 主机站共43个，根据工参和主基站计算相对坐标\n",
    "lo = []\n",
    "la = []\n",
    "for i in range(mr.shape[0]):\n",
    "    lo.append(mr.values[i][1] - mr.values[i][-2])\n",
    "    la.append(mr.values[i][2] - mr.values[i][-1])\n",
    "mr['lo'] = lo # 相对坐标\n",
    "mr['la'] = la # 相对坐标"
   ]
  },
  {
   "cell_type": "code",
   "execution_count": 12,
   "id": "447f27e4",
   "metadata": {},
   "outputs": [],
   "source": [
    "# 将处理好的数据集进行保存\n",
    "mr.to_csv('../data/group_data.csv', index=False)"
   ]
  }
 ],
 "metadata": {
  "kernelspec": {
   "display_name": "Python 3 (ipykernel)",
   "language": "python",
   "name": "python3"
  },
  "language_info": {
   "codemirror_mode": {
    "name": "ipython",
    "version": 3
   },
   "file_extension": ".py",
   "mimetype": "text/x-python",
   "name": "python",
   "nbconvert_exporter": "python",
   "pygments_lexer": "ipython3",
   "version": "3.7.11"
  }
 },
 "nbformat": 4,
 "nbformat_minor": 5
}
