{
 "cells": [
  {
   "cell_type": "markdown",
   "id": "5ba7297e",
   "metadata": {},
   "source": [
    "# 手机数据预测--自动分析特征训练"
   ]
  },
  {
   "cell_type": "markdown",
   "id": "645cfb62",
   "metadata": {},
   "source": [
    "## 1. 分类问题"
   ]
  },
  {
   "cell_type": "markdown",
   "id": "aac8833d",
   "metadata": {},
   "source": [
    "- Feature importances with a forest of trees:https://scikit-learn.org/stable/auto_examples/ensemble/plot_forest_importances.html#sphx-glr-auto-examples-ensemble-plot-forest-importances-py\n",
    "\n",
    "从论文【City-Scale Localization with Telco Big Data】中获知：MR数据中的id等数据中编码了路网的结构信息。但人为无法发现其内部信息，所以我们借助网络自动提取一些特征作为训练集。"
   ]
  },
  {
   "cell_type": "code",
   "execution_count": 3,
   "id": "1bbca356",
   "metadata": {},
   "outputs": [],
   "source": [
    "import pandas as pd\n",
    "import numpy as np"
   ]
  },
  {
   "cell_type": "code",
   "execution_count": 61,
   "id": "ed824d33",
   "metadata": {},
   "outputs": [
    {
     "name": "stdout",
     "output_type": "stream",
     "text": [
      "数据集：\n",
      "         mrtime   longitude   latitude  rncid_1  cellid_1  signallevel_1  \\\n",
      "0  1.510000e+12  121.213563  31.291798     6188     26051              4   \n",
      "\n",
      "   rssi_1  rncid_2  cellid_2  signallevel_2  ...  rncid_6  cellid_6  \\\n",
      "0     -59     6188     27394              3  ...   6188.0   27393.0   \n",
      "\n",
      "   signallevel_6  rssi_6  rncid_7  cellid_7  signallevel_7  rssi_7  linknum  \\\n",
      "0            3.0   -95.0   6182.0   44754.0            3.0   -95.0        7   \n",
      "\n",
      "   id_c5ombine  \n",
      "0        32239  \n",
      "\n",
      "[1 rows x 33 columns]\n",
      "工参：\n",
      "   rncid  cellid   longitude   latitude type\n",
      "0   6182   13666  121.191709  31.287846  NaN\n"
     ]
    }
   ],
   "source": [
    "# 读取数据\n",
    "auto_data = pd.read_csv(\"./data/2G_data.csv\", encoding = 'gbk')\n",
    "\n",
    "#匹配工参 -- 用来计算相对数据\n",
    "auto_data_gongcan = pd.read_csv(\"./data/2G_gongcan.csv\", encoding = 'gbk')\n",
    "\n",
    "# 将列名全部小写\n",
    "auto_data.rename(str.lower, axis='columns', inplace=True)\n",
    "auto_data_gongcan.rename(str.lower, axis='columns', inplace=True)\n",
    "\n",
    "print(\"数据集：\")\n",
    "print(auto_data.head(1))\n",
    "print(\"工参：\")\n",
    "print(auto_data_gongcan.head(1))"
   ]
  },
  {
   "cell_type": "code",
   "execution_count": 38,
   "id": "dd96fe6a",
   "metadata": {},
   "outputs": [],
   "source": [
    "# 栅格划分 坐标转换\n",
    "lonStep_1m = 0.0000105\n",
    "latStep_1m = 0.0000090201\n",
    "\n",
    "# 划分栅格\n",
    "class RoadGrid:\n",
    "    def __init__(self, label, grid_size):\n",
    "        length = grid_size * latStep_1m\n",
    "        width = grid_size * lonStep_1m\n",
    "        self.length = length\n",
    "        self.width = width\n",
    "        def orginal_plot(label):\n",
    "            tr = np.max(label,axis=0)\n",
    "            tr[0]+=25*lonStep_1m\n",
    "            tr[1]+=25*latStep_1m\n",
    "            # plot(label[:,0], label[:,1], 'b,')\n",
    "            bl = np.min(label,axis=0)\n",
    "            bl[0]-=25*lonStep_1m\n",
    "            bl[1]-=25*latStep_1m\n",
    "\n",
    "            # width = (tr[1]-bl[1])/100\n",
    "            # wnum =int(np.ceil((tr[1]-bl[1])/length))\n",
    "            # for j in range(wnum):\n",
    "                # hlines(y = bl[1]+length*j, xmin = bl[0], xmax = tr[0], color = 'red')\n",
    "\n",
    "            # lnum = int(np.ceil((tr[0]-bl[0])/width))\n",
    "            # for j in range(lnum):\n",
    "                # vlines(x = bl[0]+width*j, ymin = bl[1], ymax = tr[1], color = 'red')\n",
    "            return bl[0], tr[0], bl[1], tr[1]\n",
    "\n",
    "        xl,xr,yb,yt = orginal_plot(label)\n",
    "        self.xl = xl\n",
    "        self.xr = xr\n",
    "        self.yb = yb\n",
    "        self.yt = yt\n",
    "        gridSet = set()\n",
    "        grid_dict = {}\n",
    "        self.grid_dict = {}\n",
    "        for pos in label:\n",
    "            lon = pos[0]\n",
    "            lat = pos[1]\n",
    "\n",
    "            m = int((lon-xl)/width)\n",
    "            n = int((lat-yb)/length)\n",
    "            if (m,n) not in grid_dict:\n",
    "                grid_dict[(m,n)] = []\n",
    "            grid_dict[(m,n)].append((lon, lat))\n",
    "            gridSet.add((m,n))\n",
    "        # print len(gridSet)\n",
    "        gridlist = list(gridSet)\n",
    "\n",
    "            \n",
    "            \n",
    "        grid_center = [tuple(np.mean(np.array(grid_dict[grid]),axis=0)) for grid in gridlist]\n",
    "\n",
    "\n",
    "        # for gs in gridSet:\n",
    "            # xlon = xl+gs[0]*width\n",
    "            # ylat = yb+gs[1]*length\n",
    "            # bar(xlon,length,width,ylat,color='#7ED321')\n",
    "        self.gridlist = gridlist\n",
    "\n",
    "        self.grids = [(xl+i[0]*width,yb + i[1]*length) for i in grid_dict.keys()] # 左下角的点\n",
    "        self.grid_center = grid_center\n",
    "        self.n_grid = len(self.grid_center)\n",
    "        self.grid_dict = grid_dict\n",
    "\n",
    "    def transform(self, label, sparse=True):\n",
    "        def one_hot(idx, n):\n",
    "            a = [0] * n\n",
    "            a[idx] = 1\n",
    "            return a\n",
    "        grid_pos = [self.gridlist.index((int((i[0]-self.xl)/self.width),int((i[1]-self.yb)/self.length))) for i in label]\n",
    "        if sparse:\n",
    "            grid_pos = np.array([one_hot(x, len(self.gridlist)) for x in grid_pos], dtype=np.int32)\n",
    "        return grid_pos\n",
    "    \n",
    "def rad(d):\n",
    "    return d * math.pi / 180.0\n",
    "\n",
    "# 地理坐标系：为球面坐标。 参考平面地是椭球面，坐标单位：经纬度；\n",
    "# 投影坐标系：为平面坐标。参考平面地是水平面，坐标单位：米、千米等；\n",
    "# 地理坐标转换到投影坐标的过程可理解为投影。（投影：将不规则的地球曲面转换为平面）\n",
    "\n",
    "# 目前国内主要有三种地理坐标系\n",
    "# 1、WGS84坐标系：即地球坐标系（World Geodetic System），国际上通用的坐标系。\n",
    "# 设备包含的GPS芯片或者北斗芯片获取的经纬度一般都是为WGS84地理坐标系，目前谷歌地图采用的是WGS84坐标系（中国范围除外）。\n",
    "# 2、GCJ02坐标系：即火星坐标系，国测局坐标系。是由中国国家测绘局制定。由WGS84坐标系经加密后的坐标系。谷歌中国和搜搜中国采用。\n",
    "# 3、BD09坐标系：百度坐标系，GCJ02坐标系经加密后的坐标系。\n",
    "\n",
    "# 投影：墨卡托投影、高斯-克吕格 (Gauss-Krüger) 投影\n",
    "# 感兴趣的同学可以在https://desktop.arcgis.com/zh-cn/arcmap/10.3/guide-books/map-projections/list-of-supported-map-projections.htm深入了解\n",
    "\n",
    "# gps两点间距离（单位为米）\n",
    "def distance(true_pt, pred_pt):\n",
    "    lat1 = float(true_pt[1])\n",
    "    lng1 = float(true_pt[0])\n",
    "    lat2 = float(pred_pt[1])\n",
    "    lng2 = float(pred_pt[0])\n",
    "    radLat1 = rad(lat1)\n",
    "    radLat2 = rad(lat2)\n",
    "    a = radLat1 - radLat2\n",
    "    b = rad(lng1) - rad(lng2)\n",
    "    s = 2 * math.asin(math.sqrt(math.pow(math.sin(a/2),2) +\n",
    "    math.cos(radLat1)*math.cos(radLat2)*math.pow(math.sin(b/2),2)))\n",
    "    s = s * 6378.137\n",
    "    s = round(s * 10000) / 10\n",
    "    return s"
   ]
  },
  {
   "cell_type": "code",
   "execution_count": 6,
   "id": "f4429c95",
   "metadata": {},
   "outputs": [
    {
     "name": "stdout",
     "output_type": "stream",
     "text": [
      "         mrtime   longitude   latitude  rncid_1  cellid_1  signallevel_1  \\\n",
      "0  1.510000e+12  121.213563  31.291798     6188     26051              4   \n",
      "\n",
      "   rssi_1  rncid_2  cellid_2  signallevel_2  ...  cellid_6  signallevel_6  \\\n",
      "0     -59     6188     27394              3  ...   27393.0            3.0   \n",
      "\n",
      "   rssi_6  rncid_7  cellid_7  signallevel_7  rssi_7  linknum  id_c5ombine  \\\n",
      "0   -95.0   6182.0   44754.0            3.0   -95.0        7        32239   \n",
      "\n",
      "   grid_id  \n",
      "0      194  \n",
      "\n",
      "[1 rows x 34 columns]\n"
     ]
    }
   ],
   "source": [
    "# 划分栅格\n",
    "\n",
    "grid_size = 20 # 栅格大小：越小，精度越高，错误率也越高。\n",
    "\n",
    "# 根据longitude和latitude将定位数据分配在不同的栅格中\n",
    "grider = RoadGrid(auto_data[['longitude', 'latitude']].values, grid_size)\n",
    "auto_data['grid_id'] = grider.transform(auto_data[['longitude', 'latitude']].values, False)\n",
    "\n",
    "# 查看数据\n",
    "print(auto_data.head(1))"
   ]
  },
  {
   "cell_type": "code",
   "execution_count": 7,
   "id": "ab244e6a",
   "metadata": {},
   "outputs": [
    {
     "name": "stdout",
     "output_type": "stream",
     "text": [
      "id_c5ombine      1.722173\n",
      "cellid_1         1.722173\n",
      "cellid_3         1.648361\n",
      "cellid_2         1.614173\n",
      "cellid_4         1.584837\n",
      "cellid_5         1.401932\n",
      "cellid_6         1.152398\n",
      "rssi_3           0.852656\n",
      "rssi_2           0.821729\n",
      "rssi_4           0.800219\n",
      "rssi_5           0.775800\n",
      "rssi_6           0.706682\n",
      "cellid_7         0.634237\n",
      "rncid_3          0.585916\n",
      "rncid_4          0.557632\n",
      "rncid_2          0.539724\n",
      "rncid_5          0.532407\n",
      "rssi_1           0.517547\n",
      "rncid_1          0.475461\n",
      "rssi_7           0.469923\n",
      "rncid_6          0.422292\n",
      "linknum          0.332188\n",
      "rncid_7          0.306454\n",
      "signallevel_6    0.286674\n",
      "signallevel_3    0.278471\n",
      "signallevel_2    0.272752\n",
      "signallevel_7    0.258399\n",
      "signallevel_4    0.245633\n",
      "signallevel_5    0.233195\n",
      "signallevel_1    0.039316\n",
      "Name: Feature Importance, dtype: float64\n"
     ]
    }
   ],
   "source": [
    "# 回归重要性评估\n",
    "from sklearn.feature_selection import mutual_info_regression\n",
    "\n",
    "\n",
    "auto_data = auto_data.fillna(-999)\n",
    "features = auto_data.iloc[:, 3:33].dtypes == 'int64'\n",
    "scores = mutual_info_regression(auto_data.iloc[:, 3:33],\n",
    "                                auto_data['grid_id'],\n",
    "                               discrete_features=features)\n",
    "scores = pd.Series(scores, name='Feature Importance', index=auto_data.iloc[:, 3:33].columns)\n",
    "scores = scores.sort_values(ascending=False)\n",
    "print(scores)"
   ]
  },
  {
   "cell_type": "markdown",
   "id": "73dfdabe",
   "metadata": {},
   "source": [
    "对比人工采集特征，我们发现id中隐藏着更重要的信息，可能包含了基站的位置信息，从而对分类结果的影响更大。"
   ]
  },
  {
   "cell_type": "code",
   "execution_count": 7,
   "id": "c61468bb",
   "metadata": {},
   "outputs": [],
   "source": [
    "from sklearn.model_selection import train_test_split  # 数据集划分\n",
    "\n",
    "auto_data = auto_data.fillna(-999)\n",
    "# 划分训练集和测试集\n",
    "X_train,X_test,y_train,y_test = train_test_split(\n",
    "                auto_data,\n",
    "                auto_data[['longitude','latitude','grid_id']],\n",
    "                test_size=0.2,\n",
    "                random_state=200)"
   ]
  },
  {
   "cell_type": "code",
   "execution_count": 8,
   "id": "9c405f88",
   "metadata": {},
   "outputs": [],
   "source": [
    "# 训练特征: 可以动态修改特征进行训练  这里排除了signallevel特征\n",
    "feature_cloumns_name = [\n",
    "   'id_c5ombine', 'cellid_1', 'cellid_2', 'cellid_3', 'cellid_4', 'cellid_5',\n",
    "    'cellid_6', 'rssi_3', 'rssi_2', 'rssi_4','rssi_5','rssi_6','cellid_7',\n",
    "    'rncid_3', 'rncid_4', 'rncid_2', 'rssi_1', 'rncid_5', 'rncid_1', 'rssi_7',\n",
    "    'rncid_6', 'linknum'\n",
    "]"
   ]
  },
  {
   "cell_type": "code",
   "execution_count": 9,
   "id": "b0ca657e",
   "metadata": {},
   "outputs": [],
   "source": [
    "# 分类模型\n",
    "from sklearn.tree import DecisionTreeClassifier       # 决策树\n",
    "from sklearn.neighbors import KNeighborsClassifier    # K最近邻\n",
    "from sklearn.ensemble import RandomForestClassifier   # 随机森林\n",
    "from sklearn.naive_bayes import GaussianNB            # 高斯贝叶斯分类器\n",
    "from sklearn.model_selection import train_test_split  # 数据集划分\n",
    "\n",
    "# 分类器\n",
    "classifiers = {\n",
    "    \"Random Forest\": RandomForestClassifier(n_estimators=100),\n",
    "    \"K Neighbors\" : KNeighborsClassifier(n_neighbors=2),\n",
    "    \"Decision Tree\": DecisionTreeClassifier(max_depth=5),\n",
    "    \"Gaussian NB\": GaussianNB()\n",
    "}"
   ]
  },
  {
   "cell_type": "code",
   "execution_count": null,
   "id": "b1c5a280",
   "metadata": {},
   "outputs": [
    {
     "name": "stdout",
     "output_type": "stream",
     "text": [
      "Random Forest : \n",
      "9.2 24.474641954507163 32.2\n",
      "9.3 25.166975568660487 32.2\n",
      "9.3 25.65779275484414 32.3\n",
      "9.1 23.671356360572872 32.5\n",
      "9.1 23.36436394271272 31.3\n",
      "9.2 26.486604886267905 32.5\n",
      "9.2 25.994439764111206 32.3\n",
      "8.9 24.215585509688292 30.7\n",
      "9.2 25.435551811288963 32.6\n",
      "9.2 27.63319292333614 32.7\n",
      "9.17 25.21005054759899 32.13\n",
      "K Neighbors : \n"
     ]
    }
   ],
   "source": [
    "import math\n",
    "\n",
    "# 10-fold cross validation  直接在训练过程中进行交叉验证\n",
    "for name, clf in classifiers.items():\n",
    "    med, mea, nin = [], [], []\n",
    "    print(name, \": \")\n",
    "    for i in range(10):\n",
    "        regr = clf.fit(X_train[feature_cloumns_name], y_train['grid_id'])\n",
    "        pred = regr.predict(X_test[feature_cloumns_name])\n",
    "        pred_loc = np.array([grider.grid_center[idx] for idx in pred])\n",
    "        err = [distance(p,t) for p, t in zip(pred_loc, y_test[['longitude','latitude']].values)]\n",
    "        err = sorted(err)\n",
    "        med.append(np.median(err))\n",
    "        mea.append(np.mean(err))\n",
    "        nin.append(err[int(len(err)*0.9)])\n",
    "        print (np.median(err), np.mean(err), err[int(len(err)*0.9)])\n",
    "    # 中位数误差   平均误差    随机获取一个误差\n",
    "    print (np.mean(med), np.mean(mea), np.mean(nin))"
   ]
  },
  {
   "cell_type": "markdown",
   "id": "79676567",
   "metadata": {},
   "source": [
    "## 2. 相对位置回归预测"
   ]
  },
  {
   "cell_type": "code",
   "execution_count": 1,
   "id": "0efcb35d",
   "metadata": {},
   "outputs": [],
   "source": [
    "import pandas as pd\n",
    "import numpy as np"
   ]
  },
  {
   "cell_type": "code",
   "execution_count": 82,
   "id": "957a1cd5",
   "metadata": {},
   "outputs": [
    {
     "name": "stdout",
     "output_type": "stream",
     "text": [
      "数据集：\n",
      "         mrtime   longitude   latitude  rncid  cellid  signallevel_1  rssi_1  \\\n",
      "0  1.510000e+12  121.213563  31.291798   6188   26051              4     -59   \n",
      "\n",
      "   rncid_2  cellid_2  signallevel_2  ...  rncid_6  cellid_6  signallevel_6  \\\n",
      "0     6188     27394              3  ...   6188.0   27393.0            3.0   \n",
      "\n",
      "   rssi_6  rncid_7  cellid_7  signallevel_7  rssi_7  linknum  id_c5ombine  \n",
      "0   -95.0   6182.0   44754.0            3.0   -95.0        7        32239  \n",
      "\n",
      "[1 rows x 33 columns]\n",
      "工参：\n",
      "   rncid  cellid  real_longi  real_lati type\n",
      "0   6182   13666  121.191709  31.287846  NaN\n"
     ]
    }
   ],
   "source": [
    "# 读取数据\n",
    "hand_data = pd.read_csv(\"./data/2G_data.csv\", encoding = 'gbk')\n",
    "\n",
    "#匹配工参 -- 用来计算相对数据\n",
    "hand_data_gongcan = pd.read_csv(\"./data/2G_gongcan.csv\", encoding = 'gbk')\n",
    "\n",
    "# 将列名全部小写\n",
    "hand_data.rename(str.lower, axis='columns', inplace=True)\n",
    "hand_data_gongcan.rename(str.lower, axis='columns', inplace=True)\n",
    "\n",
    "# 重命名\n",
    "hand_data.rename(columns={'rncid_1':'rncid','cellid_1':'cellid'}, inplace=True)\n",
    "hand_data_gongcan.rename(columns={'longitude':'real_longi','latitude':'real_lati'}, inplace=True)\n",
    "\n",
    "print(\"数据集：\")\n",
    "print(hand_data.head(1))\n",
    "print(\"工参：\")\n",
    "print(hand_data_gongcan.head(1))"
   ]
  },
  {
   "cell_type": "code",
   "execution_count": 83,
   "id": "82af442a",
   "metadata": {},
   "outputs": [
    {
     "name": "stdout",
     "output_type": "stream",
     "text": [
      "         mrtime   longitude   latitude  rncid  cellid  signallevel_1  rssi_1  \\\n",
      "0  1.510000e+12  121.213563  31.291798   6188   26051              4     -59   \n",
      "\n",
      "   rncid_2  cellid_2  signallevel_2  ...  rssi_6  rncid_7  cellid_7  \\\n",
      "0     6188     27394              3  ...   -95.0   6182.0   44754.0   \n",
      "\n",
      "   signallevel_7  rssi_7  linknum  id_c5ombine  real_longi  real_lati  type  \n",
      "0            3.0   -95.0        7        32239  121.211928  31.288649   NaN  \n",
      "\n",
      "[1 rows x 36 columns]\n"
     ]
    }
   ],
   "source": [
    "# 合并两个DF\n",
    "data = hand_data.merge(hand_data_gongcan,how=\"left\",on=[\"rncid\",\"cellid\"])\n",
    "\n",
    "data.reset_index(drop=True)\n",
    "\n",
    "print(data.head(1))"
   ]
  },
  {
   "cell_type": "code",
   "execution_count": 84,
   "id": "c525689d",
   "metadata": {},
   "outputs": [
    {
     "name": "stdout",
     "output_type": "stream",
     "text": [
      "         mrtime   longitude   latitude  rncid  cellid  signallevel_1  rssi_1  \\\n",
      "0  1.510000e+12  121.213563  31.291798   6188   26051              4     -59   \n",
      "\n",
      "   rncid_2  cellid_2  signallevel_2  ...  cellid_7  signallevel_7  rssi_7  \\\n",
      "0     6188     27394              3  ...   44754.0            3.0   -95.0   \n",
      "\n",
      "   linknum  id_c5ombine  real_longi  real_lati  type  relative_longi  \\\n",
      "0        7        32239  121.211928  31.288649   NaN       -0.011482   \n",
      "\n",
      "   relative_lati  \n",
      "0       0.026615  \n",
      "\n",
      "[1 rows x 38 columns]\n"
     ]
    }
   ],
   "source": [
    "# 计算相对位置\n",
    "relative_longitude = []   \n",
    "relative_latitude = []\n",
    "for index, row in data.iterrows():\n",
    "    # 手机坐标减去基站坐标\n",
    "    relative_longitude = row['longitude'] - row['real_longi']\n",
    "    relative_latitude = row['latitude'] - row['real_lati']\n",
    "\n",
    "data['relative_longi'] = relative_longitude\n",
    "data['relative_lati'] = relative_latitude\n",
    "\n",
    "print(data.head(1))"
   ]
  },
  {
   "cell_type": "code",
   "execution_count": 10,
   "id": "93dfc5a9",
   "metadata": {},
   "outputs": [
    {
     "name": "stdout",
     "output_type": "stream",
     "text": [
      "rssi_2           0.023519\n",
      "cellid_2         0.019657\n",
      "rssi_1           0.019268\n",
      "signallevel_1    0.005914\n",
      "linknum          0.005626\n",
      "rncid_2          0.004168\n",
      "signallevel_2    0.002748\n",
      "cellid_7         0.002276\n",
      "cellid_6         0.002276\n",
      "signallevel_6    0.002276\n",
      "rssi_6           0.002276\n",
      "rncid_7          0.002276\n",
      "rncid_5          0.002276\n",
      "signallevel_7    0.002276\n",
      "rssi_7           0.002276\n",
      "rssi_5           0.002276\n",
      "real_longi       0.002276\n",
      "rncid_6          0.002276\n",
      "real_lati        0.002276\n",
      "signallevel_5    0.002276\n",
      "cellid_5         0.002276\n",
      "rssi_4           0.002276\n",
      "signallevel_4    0.002276\n",
      "cellid_4         0.002276\n",
      "rncid_4          0.002276\n",
      "rssi_3           0.002276\n",
      "signallevel_3    0.002276\n",
      "cellid_3         0.002276\n",
      "rncid_3          0.002276\n",
      "cellid           0.000000\n",
      "id_c5ombine      0.000000\n",
      "rncid            0.000000\n",
      "Name: Feature Importance, dtype: float64\n"
     ]
    }
   ],
   "source": [
    "# 回归重要性评估\n",
    "from sklearn.feature_selection import mutual_info_regression\n",
    "\n",
    "data = data.fillna(-999)\n",
    "features = data.iloc[:, 3:35].dtypes == 'int64'\n",
    "scores = mutual_info_regression(data.iloc[:, 3:35],\n",
    "                               data['relative_lati'],\n",
    "                               discrete_features=features)\n",
    "scores = pd.Series(scores, name='Feature Importance', index=data.iloc[:, 3:35].columns)\n",
    "scores = scores.sort_values(ascending=False)\n",
    "print(scores)"
   ]
  },
  {
   "cell_type": "code",
   "execution_count": 11,
   "id": "9a52c4f8",
   "metadata": {},
   "outputs": [
    {
     "name": "stdout",
     "output_type": "stream",
     "text": [
      "cellid_4         0.020623\n",
      "id_c5ombine      0.016943\n",
      "cellid           0.016943\n",
      "rssi_1           0.015398\n",
      "rncid_7          0.014516\n",
      "real_longi       0.013764\n",
      "cellid_5         0.011893\n",
      "cellid_7         0.010225\n",
      "cellid_2         0.010056\n",
      "signallevel_4    0.009599\n",
      "signallevel_3    0.008810\n",
      "signallevel_7    0.008383\n",
      "rssi_3           0.008301\n",
      "cellid_6         0.007402\n",
      "rssi_7           0.005926\n",
      "rssi_6           0.005231\n",
      "rncid_2          0.003442\n",
      "rncid            0.002767\n",
      "rssi_5           0.000750\n",
      "signallevel_2    0.000379\n",
      "signallevel_6    0.000000\n",
      "linknum          0.000000\n",
      "rncid_5          0.000000\n",
      "rncid_6          0.000000\n",
      "signallevel_5    0.000000\n",
      "rssi_4           0.000000\n",
      "rncid_4          0.000000\n",
      "cellid_3         0.000000\n",
      "rncid_3          0.000000\n",
      "rssi_2           0.000000\n",
      "signallevel_1    0.000000\n",
      "real_lati        0.000000\n",
      "Name: Feature Importance, dtype: float64\n"
     ]
    }
   ],
   "source": [
    "# 回归重要性评估\n",
    "from sklearn.feature_selection import mutual_info_regression\n",
    "\n",
    "data = data.fillna(-999)\n",
    "features = data.iloc[:, 3:35].dtypes == 'int64'\n",
    "scores = mutual_info_regression(data.iloc[:, 3:35],\n",
    "                               data['relative_longi'],\n",
    "                               discrete_features=features)\n",
    "scores = pd.Series(scores, name='Feature Importance', index=data.iloc[:, 3:35].columns)\n",
    "scores = scores.sort_values(ascending=False)\n",
    "print(scores)"
   ]
  },
  {
   "cell_type": "markdown",
   "id": "f6003506",
   "metadata": {},
   "source": [
    "对比可知，在回归预测问题中，变量的重要程度与分类中截然不同。这可能由于使用相对位置直接进行训练导致失去了经纬度与基站分布之间的空间信息。由此，我们定义下面的特征集："
   ]
  },
  {
   "cell_type": "code",
   "execution_count": 85,
   "id": "c0ba2014",
   "metadata": {},
   "outputs": [],
   "source": [
    "# 训练特征: 可以动态修改特征进行训练  这里排除了signallevel特征\n",
    "feature_cloumns_name = [\n",
    "   'id_c5ombine', 'cellid_4', 'cellid', 'rssi_1', 'rssi_2', 'cellid_2',\n",
    "    'signallevel_2', 'cellid_7', 'cellid_6', 'signallevel_6','rssi_6','rncid_7','rncid_5',\n",
    "    'signallevel_7', 'rssi_7', 'rssi_5', 'real_longi', 'rncid_6', 'real_lati', 'signallevel_5',\n",
    "    'cellid_5', 'rssi_4','signallevel_4', 'rncid_4', 'rssi_3', 'signallevel_3'\n",
    "]"
   ]
  },
  {
   "cell_type": "code",
   "execution_count": 86,
   "id": "ac310318",
   "metadata": {},
   "outputs": [
    {
     "name": "stdout",
     "output_type": "stream",
     "text": [
      "累计误差： 28.06 27.228993837209305 29.9425\n"
     ]
    }
   ],
   "source": [
    "from sklearn.model_selection import train_test_split  # 数据集划分\n",
    "from sklearn.ensemble import RandomForestRegressor \n",
    "import math\n",
    "\n",
    "data = data.fillna(-999)\n",
    "\n",
    "# 按照主机站分组进行训练 -- 总共有43组\n",
    "data = data.groupby(['rncid','cellid'])\n",
    "data = list(data)\n",
    "med, mea, nin = [], [], []\n",
    "error = []\n",
    "\n",
    "# 分组预测相对位置\n",
    "for i in range(43):\n",
    "    pre=[]   # 通过相对位置计算预测的实际坐标\n",
    "    group = data[i][1]\n",
    "#     print(group)\n",
    "#     break\n",
    "    #　划分数据集\n",
    "    X_train,X_test,y_train,y_test = train_test_split(\n",
    "            group,\n",
    "            group[['longitude','latitude','relative_longi','relative_lati']],\n",
    "            test_size=0.2,\n",
    "            random_state=200)\n",
    "\n",
    "    regr = RandomForestRegressor().fit(\n",
    "        X_train[feature_cloumns_name],\n",
    "        y_train[['relative_longi','relative_lati']].values)\n",
    "    \n",
    "    pred= regr.predict(X_test[feature_cloumns_name])\n",
    "    # 真实坐标=相对坐标+主机站坐标\n",
    "    for item in pred:\n",
    "        pre.append([item[0] + group.iloc[0,-5], item[1] + group.iloc[0,-4]])\n",
    "    err = [distance(p,t) for p, t in zip(pre,y_test[['longitude','latitude']].values)]\n",
    "    err = sorted(err)\n",
    "    error.append(np.median(err))\n",
    "#     med.append(np.median(err))\n",
    "#     mea.append(np.mean(err))\n",
    "    # print(np.median(err), np.mean(err), err[int(len(err)*0.9)])\n",
    "\n",
    "# 累计平均误差\n",
    "print(\"累计误差：\", np.median(error), np.mean(error), error[int(len(error)*0.9)])"
   ]
  },
  {
   "cell_type": "code",
   "execution_count": null,
   "id": "f82c9a7b",
   "metadata": {},
   "outputs": [],
   "source": []
  }
 ],
 "metadata": {
  "kernelspec": {
   "display_name": "Python 3 (ipykernel)",
   "language": "python",
   "name": "python3"
  },
  "language_info": {
   "codemirror_mode": {
    "name": "ipython",
    "version": 3
   },
   "file_extension": ".py",
   "mimetype": "text/x-python",
   "name": "python",
   "nbconvert_exporter": "python",
   "pygments_lexer": "ipython3",
   "version": "3.7.11"
  }
 },
 "nbformat": 4,
 "nbformat_minor": 5
}
